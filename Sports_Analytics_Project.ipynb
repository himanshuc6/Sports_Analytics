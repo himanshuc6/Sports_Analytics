{
  "nbformat": 4,
  "nbformat_minor": 0,
  "metadata": {
    "colab": {
      "name": "Sports_Analytics_Project.ipynb",
      "provenance": []
    },
    "kernelspec": {
      "name": "python3",
      "display_name": "Python 3"
    }
  },
  "cells": [
    {
      "cell_type": "markdown",
      "metadata": {
        "id": "hNURswZWZOCK"
      },
      "source": [
        "# Research Statement\n",
        "The notebook scraps the data from English Premier league from season 2014 to present and uses the data to understand the impact of no fans in the stadium on the match results and other statistics for home side\n"
      ]
    },
    {
      "cell_type": "markdown",
      "metadata": {
        "id": "tIcjzB9-1vsS"
      },
      "source": [
        "##What is your project topic ? Briefly summarize what you are trying to eastablish?\n",
        "\n",
        "The project explores the recent changes in the world of european football (soccer) specially English Premier league. Since the pandemic resumption of EPL, I have observed weird results in the EPL, I want to explore why the results have been such awkward. My hypothesis is to find the root cause of the problem and explore it in statistically significant results.\n",
        "\n",
        "\n",
        "\n",
        "##What were the \"results\" of your work?\n",
        "\n",
        "So after intiating a topic, I hypthesized that the factor that can cause major changes in the post pandemic EPL are lack of fans in the stadium. Since football is attributed to a home advantage sport, I wanted to study the performance of home teams in the post pandemic world as compared to previous season. The results were pretty stark,  I saw home teams in current season are having win probability of 0.11 less as compared to previous seasons.\n",
        "\n",
        "Then I hypothesized the two cause of less win probability, xG and Chances missed. Since xG is high as a result of combination of both teams performance but chances missed of home team only is coming from poor performance from home team. So studyig these two can conclude if performance of home team is degraded or away teams are doing well.\n",
        "\n",
        "From results, we see xG have gone down by 0.2 goals per match for home teams, it means that away teams are more confident and are not giving chances to home teams. Since chances missed is not statistically significant, we assume that there is not change in chances missed by home teams.\n",
        "\n",
        "\n",
        "##What would be the next logical step in this exploration ?\n",
        "Since we are attributing the decrease in win probability of home teams to improvement in performance of away teams, we should see the x,y coordinates of away teams and understand the average positions a player is playing to see what has changed. If the away team are more confident then we can see them up high the pitch with more posession in final third and more goals.\n",
        "\n",
        "##What did you find difficult during the project ?\n",
        "I found the data gathering part very difficult, I believe football has so many statistics attached to it. Finding the right set of data for analysis was very critical and therefore answering the questions which we seek to answer.\n",
        "\n",
        "##What topic did you wish you were more knowledgable about/ what would have been handy to know while you were doing the project ?\n",
        "I think the topic that I would have loved to know during all this is to know more about x,y coordinates of player position. Since Soccer is very strategic and every player is assigned a role and therefore understanding each player role x,y coordinate can tell me what role a player is playing and then the overall strategy of a team. If the data was also there for x,y coordinates of player before and after the pandemic, then we could have explored more about the strategic changes post pandemic.\n"
      ]
    },
    {
      "cell_type": "markdown",
      "metadata": {
        "id": "EamUe-xS1UhQ"
      },
      "source": [
        "\n",
        "\n",
        "**Data Gathering web scrapping**\n"
      ]
    },
    {
      "cell_type": "code",
      "metadata": {
        "id": "U7KEsdKqZNNg"
      },
      "source": [
        "import requests\n",
        "from bs4 import BeautifulSoup \n",
        "import json\n",
        "import pandas as pd\n",
        "import os"
      ],
      "execution_count": 2,
      "outputs": []
    },
    {
      "cell_type": "code",
      "metadata": {
        "id": "Jr8rUYouUOx7"
      },
      "source": [
        "base_url = 'https://understat.com/league/EPL/'\n"
      ],
      "execution_count": 3,
      "outputs": []
    },
    {
      "cell_type": "code",
      "metadata": {
        "id": "Ibeat8KsUTC9"
      },
      "source": [
        "years = ['2014', '2015', '2016', '2017', '2018','2019','2020']\n"
      ],
      "execution_count": 4,
      "outputs": []
    },
    {
      "cell_type": "code",
      "metadata": {
        "id": "gbjX0WxXUUon"
      },
      "source": [
        "#I am using the script available on kaggle to scrap the dataset. Since the format of the data is not to my liking so I am modifying the existing scripts\n",
        "## source- https://www.kaggle.com/abrarhossainhimself/understat-data-for-teams-players-2014-present\n",
        "def season(year):\n",
        "  season=year\n",
        "  url = base_url + str(year)\n",
        "  res = requests.get(url)\n",
        "  soup = BeautifulSoup(res.content, 'lxml')\n",
        "  script = soup.find_all('script')\n",
        "  string_with_json_obj = ''\n",
        "  for el in script:\n",
        "        if 'teamsData' in el.text:\n",
        "            string_with_json_obj = el.text.strip()\n",
        "  ind_start = string_with_json_obj.index(\"('\") + 2\n",
        "  ind_end = string_with_json_obj.index(\"')\") \n",
        "  json_data = string_with_json_obj[ind_start: ind_end]\n",
        "  json_data = json_data.encode('utf8').decode('unicode_escape')\n",
        "  data = json.loads(json_data)\n",
        "  teams ={}\n",
        "  for id in data.keys():\n",
        "    teams[id] = data[id]['title']\n",
        "  columns = []\n",
        "  values = []\n",
        "  for id in data.keys():\n",
        "      columns = list(data[id]['history'][0].keys())\n",
        "      break\n",
        "  all_team_dicts = {}\n",
        "  for id, team in teams.items():\n",
        "      teams_data = []\n",
        "      for i in data[id]['history']:\n",
        "          teams_data.append(list(i.values()))\n",
        "      df = pd.DataFrame(teams_data, columns = columns)\n",
        "      all_team_dicts[team] = df\n",
        "  for team, df in all_team_dicts.items():\n",
        "      all_team_dicts[team]['ppda_coef'] = all_team_dicts[team]['ppda'].apply(lambda x : x['att']/x['def'] if x['def'] != 0 else 0)\n",
        "      all_team_dicts[team]['oppda_coef'] = all_team_dicts[team]['ppda_allowed'].apply(lambda x : x['att']/x['def'] if x['def'] != 0 else 0)\n",
        "  cols = ['date','xG', 'xGA', 'npxG', 'npxGA', 'deep', 'deep_allowed', 'scored', 'missed', 'xpts', 'wins', 'draws', 'loses', 'pts', 'npxGD','h_a','ppda_coef', 'oppda_coef']\n",
        "  results = []\n",
        "  for team, df in all_team_dicts.items():\n",
        "      data = pd.DataFrame(df[cols]) \n",
        "      data['team'] = team\n",
        "      data['matches'] = len(df)\n",
        "      results.append(data)\n",
        "  new=pd.DataFrame(results[0])\n",
        "  for i in range(1,20):\n",
        "    new=pd.concat([new,results[i]],axis=0)\n",
        "  return new\n",
        "\n"
      ],
      "execution_count": 93,
      "outputs": []
    },
    {
      "cell_type": "code",
      "metadata": {
        "id": "V1FZFAdyxQul"
      },
      "source": [
        "data_2014=season(2014)\n",
        "data_2015=season(2015)\n",
        "data_2016=season(2016)\n",
        "data_2017=season(2017)\n",
        "data_2018=season(2018)\n",
        "data_2019=season(2019)\n",
        "data_2020=season(2020)"
      ],
      "execution_count": 94,
      "outputs": []
    },
    {
      "cell_type": "code",
      "metadata": {
        "id": "idlHXnpdoxru"
      },
      "source": [
        "pre_covid=data_2019[data_2019['date']<='2020-04-01 17:00:00']\n",
        "post_covid=data_2019[data_2019['date']>='2020-04-01 17:00:00']"
      ],
      "execution_count": 7,
      "outputs": []
    },
    {
      "cell_type": "code",
      "metadata": {
        "colab": {
          "base_uri": "https://localhost:8080/",
          "height": 142
        },
        "id": "QP-WOVnOuZxg",
        "outputId": "87d0f879-00ad-47ff-a29d-46a751ab8b6f"
      },
      "source": [
        "pre_covid.groupby('h_a').mean()[['wins','draws','loses']]"
      ],
      "execution_count": 8,
      "outputs": [
        {
          "output_type": "execute_result",
          "data": {
            "text/html": [
              "<div>\n",
              "<style scoped>\n",
              "    .dataframe tbody tr th:only-of-type {\n",
              "        vertical-align: middle;\n",
              "    }\n",
              "\n",
              "    .dataframe tbody tr th {\n",
              "        vertical-align: top;\n",
              "    }\n",
              "\n",
              "    .dataframe thead th {\n",
              "        text-align: right;\n",
              "    }\n",
              "</style>\n",
              "<table border=\"1\" class=\"dataframe\">\n",
              "  <thead>\n",
              "    <tr style=\"text-align: right;\">\n",
              "      <th></th>\n",
              "      <th>wins</th>\n",
              "      <th>draws</th>\n",
              "      <th>loses</th>\n",
              "    </tr>\n",
              "    <tr>\n",
              "      <th>h_a</th>\n",
              "      <th></th>\n",
              "      <th></th>\n",
              "      <th></th>\n",
              "    </tr>\n",
              "  </thead>\n",
              "  <tbody>\n",
              "    <tr>\n",
              "      <th>a</th>\n",
              "      <td>0.302083</td>\n",
              "      <td>0.25</td>\n",
              "      <td>0.447917</td>\n",
              "    </tr>\n",
              "    <tr>\n",
              "      <th>h</th>\n",
              "      <td>0.447917</td>\n",
              "      <td>0.25</td>\n",
              "      <td>0.302083</td>\n",
              "    </tr>\n",
              "  </tbody>\n",
              "</table>\n",
              "</div>"
            ],
            "text/plain": [
              "         wins  draws     loses\n",
              "h_a                           \n",
              "a    0.302083   0.25  0.447917\n",
              "h    0.447917   0.25  0.302083"
            ]
          },
          "metadata": {
            "tags": []
          },
          "execution_count": 8
        }
      ]
    },
    {
      "cell_type": "markdown",
      "metadata": {
        "id": "8czj3iSYZBRg"
      },
      "source": [
        "** *italicized text*Visualizations**\n",
        "\n",
        "The visulizations here are to explore the impact of covid and subsequently no fans in the stadium for football matches in English Premier League.  The following graph tells how the fraction of matches won by home team have changes over the seasons"
      ]
    },
    {
      "cell_type": "code",
      "metadata": {
        "id": "Bv8Vy30Nq-fd"
      },
      "source": [
        "import matplotlib.pyplot as plt\n",
        "\n",
        "bar1=data_2014.groupby('h_a').mean()[['wins','draws','loses']]\n",
        "bar1.index=['Away','Home_2014']\n",
        "bar1=bar1.loc['Home_2014']\n",
        "bar2=data_2015.groupby('h_a').mean()[['wins','draws','loses']]\n",
        "bar2.index=['Away','Home_2015']\n",
        "bar2=bar2.loc['Home_2015']\n",
        "bar3=data_2016.groupby('h_a').mean()[['wins','draws','loses']]\n",
        "bar3.index=['Away','Home_2016']\n",
        "bar3=bar3.loc['Home_2016']\n",
        "bar4=data_2017.groupby('h_a').mean()[['wins','draws','loses']]\n",
        "bar4.index=['Away','Home_2017']\n",
        "bar4=bar4.loc['Home_2017']\n",
        "bar5=data_2018.groupby('h_a').mean()[['wins','draws','loses']]\n",
        "bar5.index=['Away','Home_2018']\n",
        "bar5=bar5.loc['Home_2018']\n",
        "bar6=pre_covid.groupby('h_a').mean()[['wins','draws','loses']]\n",
        "bar6.index=['Away','Home_2019']\n",
        "bar6=bar6.loc['Home_2019']\n",
        "bar7=post_covid.groupby('h_a').mean()[['wins','draws','loses']]\n",
        "bar7.index=['Away','Home_post_covid']\n",
        "bar7=bar7.loc['Home_post_covid']\n",
        "bar8=data_2020.groupby('h_a').mean()[['wins','draws','loses']]\n",
        "bar8.index=['Away','Home_2020']\n",
        "bar8=bar8.loc['Home_2020']"
      ],
      "execution_count": 9,
      "outputs": []
    },
    {
      "cell_type": "code",
      "metadata": {
        "colab": {
          "base_uri": "https://localhost:8080/",
          "height": 641
        },
        "id": "OrpcbFPR9ijA",
        "outputId": "0f8a785d-7ef5-4aaa-e7f5-25cf7571a53b"
      },
      "source": [
        "bars=pd.concat([bar1,bar2,bar3,bar4,bar5,bar6,bar8],axis=1)\n",
        "bars=bars.T\n",
        "bars.plot(kind='bar', figsize=(10,10))\n",
        "plt.show()"
      ],
      "execution_count": 10,
      "outputs": [
        {
          "output_type": "display_data",
          "data": {
            "image/png": "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\n",
            "text/plain": [
              "<Figure size 720x720 with 1 Axes>"
            ]
          },
          "metadata": {
            "tags": [],
            "needs_background": "light"
          }
        }
      ]
    },
    {
      "cell_type": "markdown",
      "metadata": {
        "id": "gPobwbaOAjQt"
      },
      "source": [
        "**We see an increase losses for the home team for the 2020 season**"
      ]
    },
    {
      "cell_type": "markdown",
      "metadata": {
        "id": "Oh6sG1PrtlIJ"
      },
      "source": [
        " The following graph tells how the home teams have missed more chances in the current season as compared to previous"
      ]
    },
    {
      "cell_type": "code",
      "metadata": {
        "colab": {
          "base_uri": "https://localhost:8080/",
          "height": 641
        },
        "id": "snFFwWCcApM-",
        "outputId": "41a5481a-e602-47f3-b098-3785b139316b"
      },
      "source": [
        "import matplotlib.pyplot as plt\n",
        "\n",
        "bar1=data_2014.groupby('h_a').mean()[['scored','missed' ]]\n",
        "bar1.index=['Away','Home_2014']\n",
        "bar1=bar1.loc['Home_2014']\n",
        "bar2=data_2015.groupby('h_a').mean()[['scored','missed' ]]\n",
        "bar2.index=['Away','Home_2015']\n",
        "bar2=bar2.loc['Home_2015']\n",
        "bar3=data_2016.groupby('h_a').mean()[['scored','missed' ]]\n",
        "bar3.index=['Away','Home_2016']\n",
        "bar3=bar3.loc['Home_2016']\n",
        "bar4=data_2017.groupby('h_a').mean()[['scored','missed' ]]\n",
        "bar4.index=['Away','Home_2017']\n",
        "bar4=bar4.loc['Home_2017']\n",
        "bar5=data_2018.groupby('h_a').mean()[['scored','missed' ]]\n",
        "bar5.index=['Away','Home_2018']\n",
        "bar5=bar5.loc['Home_2018']\n",
        "bar6=pre_covid.groupby('h_a').mean()[['scored','missed' ]]\n",
        "bar6.index=['Away','Home_2019']\n",
        "bar6=bar6.loc['Home_2019']\n",
        "bar7=post_covid.groupby('h_a').mean()[['scored','missed' ]]\n",
        "bar7.index=['Away','Home_post_covid']\n",
        "bar7=bar7.loc['Home_post_covid']\n",
        "bar8=data_2020.groupby('h_a').mean()[['scored','missed' ]]\n",
        "bar8.index=['Away','Home_2020']\n",
        "bar8=bar8.loc['Home_2020']\n",
        "bars=pd.concat([bar1,bar2,bar3,bar4,bar5,bar6,bar8],axis=1)\n",
        "bars=bars.T\n",
        "bars.plot(kind='bar', figsize=(10,10))\n",
        "plt.title('Home Teams Missing Chances')"
        "plt.show()"
      ],
      "execution_count": 11,
      "outputs": [
        {
          "output_type": "display_data",
          "data": {
            "image/png": "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\n",
            "text/plain": [
              "<Figure size 720x720 with 1 Axes>"
            ]
          },
          "metadata": {
            "tags": [],
            "needs_background": "light"
          }
        }
      ]
    },
    {
      "cell_type": "markdown",
      "metadata": {
        "id": "oTbJ6fw2CL8U"
      },
      "source": [
        "**Home team are missing more chances in 2020 season**"
      ]
    },
    {
      "cell_type": "markdown",
      "metadata": {
        "id": "8isVlJWutviJ"
      },
      "source": [
        " The following graph tells how the away teams have scored more goals in the current season the previous seasons "
      ]
    },
    {
      "cell_type": "code",
      "metadata": {
        "colab": {
          "base_uri": "https://localhost:8080/",
          "height": 639
        },
        "id": "va0Hxk3FDlbO",
        "outputId": "2690cc65-f0a6-4728-d13b-8725661a2fb9"
      },
      "source": [
        "import matplotlib.pyplot as plt\n",
        "\n",
        "bar1=data_2014.groupby('h_a').mean()[['scored','missed' ]]\n",
        "bar1.index=['Away_2014','Home_2014']\n",
        "bar1=bar1.loc['Away_2014']\n",
        "bar2=data_2015.groupby('h_a').mean()[['scored','missed' ]]\n",
        "bar2.index=['Away_2015','Home_2015']\n",
        "bar2=bar2.loc['Away_2015']\n",
        "bar3=data_2016.groupby('h_a').mean()[['scored','missed' ]]\n",
        "bar3.index=['Away_2016','Home_2016']\n",
        "bar3=bar3.loc['Away_2016']\n",
        "bar4=data_2017.groupby('h_a').mean()[['scored','missed' ]]\n",
        "bar4.index=['Away_2017','Home_2017']\n",
        "bar4=bar4.loc['Away_2017']\n",
        "bar5=data_2018.groupby('h_a').mean()[['scored','missed' ]]\n",
        "bar5.index=['Away_2018','Home_2018']\n",
        "bar5=bar5.loc['Away_2018']\n",
        "bar6=pre_covid.groupby('h_a').mean()[['scored','missed' ]]\n",
        "bar6.index=['Away_2019','Home_2019']\n",
        "bar6=bar6.loc['Away_2019']\n",
        "bar7=post_covid.groupby('h_a').mean()[['scored','missed' ]]\n",
        "bar7.index=['Away_post_covid','Home_post_covid']\n",
        "bar7=bar7.loc['Away_post_covid']\n",
        "bar8=data_2020.groupby('h_a').mean()[['scored','missed' ]]\n",
        "bar8.index=['Away_2020','Home_2020']\n",
        "bar8=bar8.loc['Away_2020']\n",
        "bars=pd.concat([bar1,bar2,bar3,bar4,bar5,bar6,bar8],axis=1)\n",
        "bars=bars.T\n",
        "bars.plot(kind='bar', figsize=(10,10))\n",
        "plt.show()"
      ],
      "execution_count": 12,
      "outputs": [
        {
          "output_type": "display_data",
          "data": {
            "image/png": "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\n",
            "text/plain": [
              "<Figure size 720x720 with 1 Axes>"
            ]
          },
          "metadata": {
            "tags": [],
            "needs_background": "light"
          }
        }
      ]
    },
    {
      "cell_type": "markdown",
      "metadata": {
        "id": "Qil6Nl3XD1OD"
      },
      "source": [
        "**Away teams are scoring more.. Home advantage drifting off in 2020 season ?**"
      ]
    },
    {
      "cell_type": "code",
      "metadata": {
        "id": "XBw4FxX3rv2m"
      },
      "source": [
        ""
      ],
      "execution_count": null,
      "outputs": []
    },
    {
      "cell_type": "code",
      "metadata": {
        "id": "wj0CIhZCrxYN"
      },
      "source": [
        ""
      ],
      "execution_count": null,
      "outputs": []
    },
    {
      "cell_type": "code",
      "metadata": {
        "id": "stis7YyIrxc3"
      },
      "source": [
        ""
      ],
      "execution_count": null,
      "outputs": []
    },
    {
      "cell_type": "markdown",
      "metadata": {
        "id": "VC0x1K-mrwmL"
      },
      "source": [
        "***Now lets see the impact of the no fans in win percentages by home team, Our Null hypothesis is that the win percentage change after no fans is 0, and alternate hypothesis is that win percentage change is less than zero (it means home teams are losing more matches than before )***"
      ]
    },
    {
      "cell_type": "code",
      "metadata": {
        "id": "Abo53xw4D9Yi"
      },
      "source": [
        "all=pd.concat([data_2014,data_2015,data_2016,data_2017,data_2018,data_2019,data_2020],axis=0)"
      ],
      "execution_count": 44,
      "outputs": []
    },
    {
      "cell_type": "code",
      "metadata": {
        "id": "W4M3rn43o_ZJ"
      },
      "source": [
        "all['pre/post']=1*(all['date']>='2020-04-01 17:00:00')\n"
      ],
      "execution_count": 45,
      "outputs": []
    },
    {
      "cell_type": "code",
      "metadata": {
        "id": "uImK06WipGXV"
      },
      "source": [
        "y=all['wins']\n",
        "x=all.drop(columns=['date','scored','missed','xpts','wins','draws','loses','pts','team','matches','xG','npxG','deep_allowed'\n",
        ",'xGA','npxGA','deep','npxGD','ppda_coef','oppda_coef'])\n",
        "x['h_a']=1*(x['h_a']=='h')\n",
        "\n"
      ],
      "execution_count": 76,
      "outputs": []
    },
    {
      "cell_type": "code",
      "metadata": {
        "id": "p2rlj2WjXGDf"
      },
      "source": [
        "x['interaction']=x['h_a']*x['pre/post']\n"
      ],
      "execution_count": 77,
      "outputs": []
    },
    {
      "cell_type": "code",
      "metadata": {
        "id": "cCzB-aFpZbQe"
      },
      "source": [
        "import statsmodels.api as sm"
      ],
      "execution_count": 74,
      "outputs": []
    },
    {
      "cell_type": "code",
      "metadata": {
        "colab": {
          "base_uri": "https://localhost:8080/"
        },
        "id": "LWxBw7ogb8os",
        "outputId": "b876659b-bc1a-44b7-90da-88f32b88426d"
      },
      "source": [
        "x = sm.add_constant(x)\n",
        "model = sm.OLS(y, x)\n",
        "results = model.fit()\n",
        "print(results.summary())"
      ],
      "execution_count": 79,
      "outputs": [
        {
          "output_type": "stream",
          "text": [
            "                            OLS Regression Results                            \n",
            "==============================================================================\n",
            "Dep. Variable:                   wins   R-squared:                       0.023\n",
            "Model:                            OLS   Adj. R-squared:                  0.022\n",
            "Method:                 Least Squares   F-statistic:                     37.67\n",
            "Date:                Sun, 13 Dec 2020   Prob (F-statistic):           4.72e-24\n",
            "Time:                        23:50:16   Log-Likelihood:                -3284.5\n",
            "No. Observations:                4794   AIC:                             6577.\n",
            "Df Residuals:                    4790   BIC:                             6603.\n",
            "Df Model:                           3                                         \n",
            "Covariance Type:            nonrobust                                         \n",
            "===============================================================================\n",
            "                  coef    std err          t      P>|t|      [0.025      0.975]\n",
            "-------------------------------------------------------------------------------\n",
            "const           0.3030      0.010     29.512      0.000       0.283       0.323\n",
            "h_a             0.1536      0.015     10.576      0.000       0.125       0.182\n",
            "pre/post        0.0750      0.035      2.156      0.031       0.007       0.143\n",
            "interaction    -0.1153      0.049     -2.344      0.019      -0.212      -0.019\n",
            "==============================================================================\n",
            "Omnibus:                    21788.013   Durbin-Watson:                   1.794\n",
            "Prob(Omnibus):                  0.000   Jarque-Bera (JB):              740.266\n",
            "Skew:                           0.471   Prob(JB):                    1.79e-161\n",
            "Kurtosis:                       1.321   Cond. No.                         9.36\n",
            "==============================================================================\n",
            "\n",
            "Warnings:\n",
            "[1] Standard Errors assume that the covariance matrix of the errors is correctly specified.\n"
          ],
          "name": "stdout"
        }
      ]
    },
    {
      "cell_type": "markdown",
      "metadata": {
        "id": "0rO2-RCju18D"
      },
      "source": [
        "Here we clearly see that the interaction effect, (diff in diff) of matches played by home team are affected a lot, roughly 0.11 win probability of home teams is decreased"
      ]
    },
    {
      "cell_type": "markdown",
      "metadata": {
        "id": "ZQS6hW-Gf6Pw"
      },
      "source": [
        "**Now lets see how the expected goals have been impacted by the no fans in stadium and if they are statistically significant**"
      ]
    },
    {
      "cell_type": "code",
      "metadata": {
        "colab": {
          "base_uri": "https://localhost:8080/"
        },
        "id": "dZYJGmZGf-Vg",
        "outputId": "dfdc3b88-43c7-4b7a-fe0e-4fcc5dd8bef4"
      },
      "source": [
        "y=all['xG']\n",
        "x=all.drop(columns=['date','scored','missed','xpts','wins','draws','loses','pts','team','matches','xG','npxG','deep_allowed'\n",
        ",'xGA','npxGA','deep','npxGD','ppda_coef','oppda_coef'])\n",
        "x['h_a']=1*(x['h_a']=='h')\n",
        "x['interaction']=x['h_a']*x['pre/post']\n",
        "\n",
        "x = sm.add_constant(x)\n",
        "model = sm.OLS(y, x)\n",
        "results = model.fit()\n",
        "print(results.summary())\n"
      ],
      "execution_count": 97,
      "outputs": [
        {
          "output_type": "stream",
          "text": [
            "                            OLS Regression Results                            \n",
            "==============================================================================\n",
            "Dep. Variable:                     xG   R-squared:                       0.036\n",
            "Model:                            OLS   Adj. R-squared:                  0.036\n",
            "Method:                 Least Squares   F-statistic:                     60.02\n",
            "Date:                Mon, 14 Dec 2020   Prob (F-statistic):           4.40e-38\n",
            "Time:                        03:37:00   Log-Likelihood:                -5851.5\n",
            "No. Observations:                4794   AIC:                         1.171e+04\n",
            "Df Residuals:                    4790   BIC:                         1.174e+04\n",
            "Df Model:                           3                                         \n",
            "Covariance Type:            nonrobust                                         \n",
            "===============================================================================\n",
            "                  coef    std err          t      P>|t|      [0.025      0.975]\n",
            "-------------------------------------------------------------------------------\n",
            "const           1.1713      0.018     66.782      0.000       1.137       1.206\n",
            "h_a             0.3307      0.025     13.332      0.000       0.282       0.379\n",
            "pre/post        0.1284      0.059      2.162      0.031       0.012       0.245\n",
            "interaction    -0.2155      0.084     -2.566      0.010      -0.380      -0.051\n",
            "==============================================================================\n",
            "Omnibus:                      699.421   Durbin-Watson:                   1.644\n",
            "Prob(Omnibus):                  0.000   Jarque-Bera (JB):             1135.192\n",
            "Skew:                           0.992   Prob(JB):                    3.13e-247\n",
            "Kurtosis:                       4.322   Cond. No.                         9.36\n",
            "==============================================================================\n",
            "\n",
            "Warnings:\n",
            "[1] Standard Errors assume that the covariance matrix of the errors is correctly specified.\n"
          ],
          "name": "stdout"
        }
      ]
    },
    {
      "cell_type": "markdown",
      "metadata": {
        "id": "EDnmnj2uvmoA"
      },
      "source": [
        "Here we clearly see that the interaction effect, (diff in diff) of xG for home teams is decreased by 0.21 goals per match, the p value is 0.01 so the result holds 99% of the time and we can say the pandemic has effected xG as well"
      ]
    },
    {
      "cell_type": "markdown",
      "metadata": {
        "id": "gn5tdW8JyE77"
      },
      "source": [
        "**Goals missed by home teams is now studied next, here we see the test that what is the missed chances by home teams in previous season to current season**"
      ]
    },
    {
      "cell_type": "code",
      "metadata": {
        "colab": {
          "base_uri": "https://localhost:8080/"
        },
        "id": "P_7UCH4ULMZE",
        "outputId": "e721fe8c-1fcf-47c7-867f-2b0ec3326eb1"
      },
      "source": [
        "y=all['missed']\n",
        "x=all.drop(columns=['date','scored','missed','xpts','wins','draws','loses','pts','team','matches','xG','npxG','deep_allowed'\n",
        ",'xGA','npxGA','deep','npxGD','ppda_coef','oppda_coef'])\n",
        "x['h_a']=1*(x['h_a']=='h')\n",
        "x['interaction']=x['h_a']*x['pre/post']\n",
        "\n",
        "x = sm.add_constant(x)\n",
        "model = sm.OLS(y, x)\n",
        "results = model.fit()\n",
        "print(results.summary())\n",
        "\n"
      ],
      "execution_count": 102,
      "outputs": [
        {
          "output_type": "stream",
          "text": [
            "                            OLS Regression Results                            \n",
            "==============================================================================\n",
            "Dep. Variable:                 missed   R-squared:                       0.018\n",
            "Model:                            OLS   Adj. R-squared:                  0.017\n",
            "Method:                 Least Squares   F-statistic:                     28.90\n",
            "Date:                Mon, 14 Dec 2020   Prob (F-statistic):           1.63e-18\n",
            "Time:                        05:45:20   Log-Likelihood:                -7818.9\n",
            "No. Observations:                4794   AIC:                         1.565e+04\n",
            "Df Residuals:                    4790   BIC:                         1.567e+04\n",
            "Df Model:                           3                                         \n",
            "Covariance Type:            nonrobust                                         \n",
            "===============================================================================\n",
            "                  coef    std err          t      P>|t|      [0.025      0.975]\n",
            "-------------------------------------------------------------------------------\n",
            "const           1.5293      0.026     57.840      0.000       1.477       1.581\n",
            "h_a            -0.3441      0.037     -9.204      0.000      -0.417      -0.271\n",
            "pre/post       -0.0508      0.090     -0.567      0.571      -0.226       0.125\n",
            "interaction     0.2054      0.127      1.622      0.105      -0.043       0.454\n",
            "==============================================================================\n",
            "Omnibus:                      697.541   Durbin-Watson:                   1.886\n",
            "Prob(Omnibus):                  0.000   Jarque-Bera (JB):             1115.426\n",
            "Skew:                           0.999   Prob(JB):                    6.14e-243\n",
            "Kurtosis:                       4.261   Cond. No.                         9.36\n",
            "==============================================================================\n",
            "\n",
            "Warnings:\n",
            "[1] Standard Errors assume that the covariance matrix of the errors is correctly specified.\n"
          ],
          "name": "stdout"
        }
      ]
    },
    {
      "cell_type": "markdown",
      "metadata": {
        "id": "qqTB3DDYybll"
      },
      "source": [
        "Here we see that the missed chances are 0.20 more per game by home team, however we don't have good p-value so we can't reject the null hypothesis that the missed chances are same as before."
      ]
    },
    {
      "cell_type": "markdown",
      "metadata": {
        "id": "oWM1S4e9y9dW"
      },
      "source": [
        "# Summary"
      ]
    },
    {
      "cell_type": "markdown",
      "metadata": {
        "id": "HT64l5W_zDA-"
      },
      "source": [
        "So our analysis understanding the impact of no fans in stadium started with analyzing the results of win probability of home teams before and after pandemic, we see that the win probability is decreased by 11 % for home teams. \n",
        "\n",
        "Then we try to understand the reasons behind less wins for home teams and we see that home teams are having less expected goals this season as compared to other seasons,  this can be attributed to no encouragement from fans to the home players. Also no fans in stadium promotes the performance of opponent players therefore home teams are not getting to the positions in the field as they used to be before. The results of xG are statistically significant therefore our null hypothesis is rejected.\n",
        "\n",
        "\n",
        "Also we checked the missed chances by home teams, as the results are not statistically significant we can safely say that the decrease in win probability for home teams is attributed to less xG rather than missed chances. So basically home team performance is not decreased as much as away team performance has improved in the current season. Hence we see drop of win probability for home teams"
      ]
    },
    {
      "cell_type": "code",
      "metadata": {
        "id": "01O4k3UAzB9V"
      },
      "source": [
        ""
      ],
      "execution_count": null,
      "outputs": []
    }
  ]
}
