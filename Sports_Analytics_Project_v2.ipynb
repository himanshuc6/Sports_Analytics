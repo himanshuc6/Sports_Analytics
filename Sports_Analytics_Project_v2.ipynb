{
  "nbformat": 4,
  "nbformat_minor": 0,
  "metadata": {
    "colab": {
      "name": "Sports_Analytics_Project_v2.ipynb",
      "provenance": [],
      "collapsed_sections": []
    },
    "kernelspec": {
      "name": "python3",
      "display_name": "Python 3"
    }
  },
  "cells": [
    {
      "cell_type": "markdown",
      "metadata": {
        "id": "hNURswZWZOCK"
      },
      "source": [
        "# Research Statement\n",
        "The notebook scraps the data from English Premier league from season 2014 to present and uses the data to understand the impact of no fans in the stadium on the match results and other statistics for home side\n"
      ]
    },
    {
      "cell_type": "markdown",
      "metadata": {
        "id": "tIcjzB9-1vsS"
      },
      "source": [
        "##What is your project topic ? Briefly summarize what you are trying to eastablish?\n",
        "\n",
        "The project explores the recent changes in the world of european football (soccer) specially English Premier league. Since the pandemic resumption of EPL, I have observed weird results in the EPL, I want to explore why the results have been so awkward. My hypothesis is to find the root cause of the problem and explore it in statistically significant results.\n",
        "\n",
        "\n",
        "\n",
        "##What were the \"results\" of your work?\n",
        "\n",
        "So after intiating a topic, I hypthesized that the factor that can cause major changes in the post pandemic EPL are lack of fans in the stadium. Since football is attributed to a home advantage sport, I wanted to study the performance of home teams in the post pandemic world as compared to previous season. The results were pretty stark,  I saw home teams in current season are having win probability of 0.11 less as compared to previous seasons.\n",
        "\n",
        "Then I hypothesized the two cause of less win probability, xG and Chances missed. Since xG is high as a result of combination of both teams performance but chances missed of home team only is coming from poor performance from home team. So studyig these two can conclude if performance of home team is degraded or away teams are doing well.\n",
        "\n",
        "From results, we see xG have gone down by 0.2 goals per match for home teams, it means that away teams are more confident and are not giving chances to home teams. Since chances missed is not statistically significant, we assume that there is not change in chances missed by home teams.\n",
        "\n",
        "\n",
        "##What would be the next logical step in this exploration ?\n",
        "Since we are attributing the decrease in win probability of home teams to improvement in performance of away teams, we should see the x,y coordinates of away teams and understand the average positions a player is playing to see what has changed. If the away team are more confident then we can see them up high the pitch with more posession in final third and more goals.\n",
        "\n",
        "##What did you find difficult during the project ?\n",
        "I found the data gathering part very difficult, I believe football has so many statistics attached to it. Finding the right set of data for analysis was very critical and therefore answering the questions which we seek to answer.\n",
        "\n",
        "##What topic did you wish you were more knowledgable about/ what would have been handy to know while you were doing the project ?\n",
        "I think the topic that I would have loved to know during all this is to know more about x,y coordinates of player position. Since Soccer is very strategic and every player is assigned a role and therefore understanding each player role x,y coordinate can tell me what role a player is playing and then the overall strategy of a team. If the data was also there for x,y coordinates of player before and after the pandemic, then we could have explored more about the strategic changes post pandemic.\n"
      ]
    },
    {
      "cell_type": "markdown",
      "metadata": {
        "id": "EamUe-xS1UhQ"
      },
      "source": [
        "\n",
        "\n",
        "**Data Gathering web scrapping**\n"
      ]
    },
    {
      "cell_type": "code",
      "metadata": {
        "id": "U7KEsdKqZNNg"
      },
      "source": [
        "import requests\n",
        "from bs4 import BeautifulSoup \n",
        "import json\n",
        "import pandas as pd\n",
        "import os"
      ],
      "execution_count": 17,
      "outputs": []
    },
    {
      "cell_type": "code",
      "metadata": {
        "id": "Jr8rUYouUOx7"
      },
      "source": [
        "base_url = 'https://understat.com/league/EPL/'\n"
      ],
      "execution_count": 18,
      "outputs": []
    },
    {
      "cell_type": "code",
      "metadata": {
        "id": "Ibeat8KsUTC9"
      },
      "source": [
        "years = ['2014', '2015', '2016', '2017', '2018','2019','2020']\n"
      ],
      "execution_count": 19,
      "outputs": []
    },
    {
      "cell_type": "code",
      "metadata": {
        "id": "gbjX0WxXUUon"
      },
      "source": [
        "#I am using the script available on kaggle to scrap the dataset. Since the format of the data is not to my liking so I am modifying the existing scripts\n",
        "## source- https://www.kaggle.com/abrarhossainhimself/understat-data-for-teams-players-2014-present\n",
        "def season(year):\n",
        "  season=year\n",
        "  url = base_url + str(year)\n",
        "  res = requests.get(url)\n",
        "  soup = BeautifulSoup(res.content, 'lxml')\n",
        "  script = soup.find_all('script')\n",
        "  string_with_json_obj = ''\n",
        "  for el in script:\n",
        "        if 'teamsData' in el.text:\n",
        "            string_with_json_obj = el.text.strip()\n",
        "  ind_start = string_with_json_obj.index(\"('\") + 2\n",
        "  ind_end = string_with_json_obj.index(\"')\") \n",
        "  json_data = string_with_json_obj[ind_start: ind_end]\n",
        "  json_data = json_data.encode('utf8').decode('unicode_escape')\n",
        "  data = json.loads(json_data)\n",
        "  teams ={}\n",
        "  for id in data.keys():\n",
        "    teams[id] = data[id]['title']\n",
        "  columns = []\n",
        "  values = []\n",
        "  for id in data.keys():\n",
        "      columns = list(data[id]['history'][0].keys())\n",
        "      break\n",
        "  all_team_dicts = {}\n",
        "  for id, team in teams.items():\n",
        "      teams_data = []\n",
        "      for i in data[id]['history']:\n",
        "          teams_data.append(list(i.values()))\n",
        "      df = pd.DataFrame(teams_data, columns = columns)\n",
        "      all_team_dicts[team] = df\n",
        "  for team, df in all_team_dicts.items():\n",
        "      all_team_dicts[team]['ppda_coef'] = all_team_dicts[team]['ppda'].apply(lambda x : x['att']/x['def'] if x['def'] != 0 else 0)\n",
        "      all_team_dicts[team]['oppda_coef'] = all_team_dicts[team]['ppda_allowed'].apply(lambda x : x['att']/x['def'] if x['def'] != 0 else 0)\n",
        "  cols = ['date','xG', 'xGA', 'npxG', 'npxGA', 'deep', 'deep_allowed', 'scored', 'missed', 'xpts', 'wins', 'draws', 'loses', 'pts', 'npxGD','h_a','ppda_coef', 'oppda_coef']\n",
        "  results = []\n",
        "  for team, df in all_team_dicts.items():\n",
        "      data = pd.DataFrame(df[cols]) \n",
        "      data['team'] = team\n",
        "      data['matches'] = len(df)\n",
        "      results.append(data)\n",
        "  new=pd.DataFrame(results[0])\n",
        "  for i in range(1,20):\n",
        "    new=pd.concat([new,results[i]],axis=0)\n",
        "  return new\n",
        "\n"
      ],
      "execution_count": 20,
      "outputs": []
    },
    {
      "cell_type": "code",
      "metadata": {
        "id": "V1FZFAdyxQul"
      },
      "source": [
        "data_2014=season(2014)\n",
        "data_2015=season(2015)\n",
        "data_2016=season(2016)\n",
        "data_2017=season(2017)\n",
        "data_2018=season(2018)\n",
        "data_2019=season(2019)\n",
        "data_2020=season(2020)"
      ],
      "execution_count": 21,
      "outputs": []
    },
    {
      "cell_type": "code",
      "metadata": {
        "id": "idlHXnpdoxru"
      },
      "source": [
        "pre_covid=data_2019[data_2019['date']<='2020-04-01 17:00:00']\n",
        "post_covid=data_2019[data_2019['date']>='2020-04-01 17:00:00']"
      ],
      "execution_count": 22,
      "outputs": []
    },
    {
      "cell_type": "code",
      "metadata": {
        "colab": {
          "base_uri": "https://localhost:8080/",
          "height": 141
        },
        "id": "QP-WOVnOuZxg",
        "outputId": "8b5bc7dc-6382-4dad-c896-91ebad6d47aa"
      },
      "source": [
        "pre_covid.groupby('h_a').mean()[['wins','draws','loses']]"
      ],
      "execution_count": 23,
      "outputs": [
        {
          "output_type": "execute_result",
          "data": {
            "text/html": [
              "<div>\n",
              "<style scoped>\n",
              "    .dataframe tbody tr th:only-of-type {\n",
              "        vertical-align: middle;\n",
              "    }\n",
              "\n",
              "    .dataframe tbody tr th {\n",
              "        vertical-align: top;\n",
              "    }\n",
              "\n",
              "    .dataframe thead th {\n",
              "        text-align: right;\n",
              "    }\n",
              "</style>\n",
              "<table border=\"1\" class=\"dataframe\">\n",
              "  <thead>\n",
              "    <tr style=\"text-align: right;\">\n",
              "      <th></th>\n",
              "      <th>wins</th>\n",
              "      <th>draws</th>\n",
              "      <th>loses</th>\n",
              "    </tr>\n",
              "    <tr>\n",
              "      <th>h_a</th>\n",
              "      <th></th>\n",
              "      <th></th>\n",
              "      <th></th>\n",
              "    </tr>\n",
              "  </thead>\n",
              "  <tbody>\n",
              "    <tr>\n",
              "      <th>a</th>\n",
              "      <td>0.302083</td>\n",
              "      <td>0.25</td>\n",
              "      <td>0.447917</td>\n",
              "    </tr>\n",
              "    <tr>\n",
              "      <th>h</th>\n",
              "      <td>0.447917</td>\n",
              "      <td>0.25</td>\n",
              "      <td>0.302083</td>\n",
              "    </tr>\n",
              "  </tbody>\n",
              "</table>\n",
              "</div>"
            ],
            "text/plain": [
              "         wins  draws     loses\n",
              "h_a                           \n",
              "a    0.302083   0.25  0.447917\n",
              "h    0.447917   0.25  0.302083"
            ]
          },
          "metadata": {
            "tags": []
          },
          "execution_count": 23
        }
      ]
    },
    {
      "cell_type": "markdown",
      "metadata": {
        "id": "8czj3iSYZBRg"
      },
      "source": [
        "**Visualizations**\n",
        "\n",
        "The visulizations here are to explore the impact of covid and subsequently no fans in the stadium for football matches in English Premier League.  The following graph tells how the fraction of matches won by home team have changes over the seasons"
      ]
    },
    {
      "cell_type": "code",
      "metadata": {
        "id": "Bv8Vy30Nq-fd"
      },
      "source": [
        "import matplotlib.pyplot as plt\n",
        "\n",
        "bar1=data_2014.groupby('h_a').mean()[['wins','draws','loses']]\n",
        "bar1.index=['Away','Home_2014']\n",
        "bar1=bar1.loc['Home_2014']\n",
        "bar2=data_2015.groupby('h_a').mean()[['wins','draws','loses']]\n",
        "bar2.index=['Away','Home_2015']\n",
        "bar2=bar2.loc['Home_2015']\n",
        "bar3=data_2016.groupby('h_a').mean()[['wins','draws','loses']]\n",
        "bar3.index=['Away','Home_2016']\n",
        "bar3=bar3.loc['Home_2016']\n",
        "bar4=data_2017.groupby('h_a').mean()[['wins','draws','loses']]\n",
        "bar4.index=['Away','Home_2017']\n",
        "bar4=bar4.loc['Home_2017']\n",
        "bar5=data_2018.groupby('h_a').mean()[['wins','draws','loses']]\n",
        "bar5.index=['Away','Home_2018']\n",
        "bar5=bar5.loc['Home_2018']\n",
        "bar6=pre_covid.groupby('h_a').mean()[['wins','draws','loses']]\n",
        "bar6.index=['Away','Home_2019']\n",
        "bar6=bar6.loc['Home_2019']\n",
        "bar7=post_covid.groupby('h_a').mean()[['wins','draws','loses']]\n",
        "bar7.index=['Away','Home_post_covid']\n",
        "bar7=bar7.loc['Home_post_covid']\n",
        "bar8=data_2020.groupby('h_a').mean()[['wins','draws','loses']]\n",
        "bar8.index=['Away','Home_2020']\n",
        "bar8=bar8.loc['Home_2020']"
      ],
      "execution_count": 24,
      "outputs": []
    },
    {
      "cell_type": "code",
      "metadata": {
        "colab": {
          "base_uri": "https://localhost:8080/",
          "height": 671
        },
        "id": "OrpcbFPR9ijA",
        "outputId": "67f1aad4-3829-44d0-8874-7edf0164234e"
      },
      "source": [
        "bars=pd.concat([bar1,bar2,bar3,bar4,bar5,bar6,bar8],axis=1)\n",
        "bars=bars.T\n",
        "bars.plot(kind='bar', figsize=(10,10))\n",
        "plt.title(\"Home teams winning less games after Pandemic\")\n",
        "plt.ylabel(\"Fraction of games\")\n",
        "plt.xlabel(\"Season\")\n",
        "plt.show()"
      ],
      "execution_count": 25,
      "outputs": [
        {
          "output_type": "display_data",
          "data": {
            "image/png": "[encoded data removed]",
            "text/plain": [
              "<Figure size 720x720 with 1 Axes>"
            ]
          },
          "metadata": {
            "tags": [],
            "needs_background": "light"
          }
        }
      ]
    },
    {
      "cell_type": "markdown",
      "metadata": {
        "id": "gPobwbaOAjQt"
      },
      "source": [
        "**We see an increase in losses for the home team for the 2020 season (season with no fans)**"
      ]
    },
    {
      "cell_type": "markdown",
      "metadata": {
        "id": "Oh6sG1PrtlIJ"
      },
      "source": [
        " The following graph tells how the home teams have missed more chances in the current season as compared to previous"
      ]
    },
    {
      "cell_type": "code",
      "metadata": {
        "colab": {
          "base_uri": "https://localhost:8080/",
          "height": 671
        },
        "id": "snFFwWCcApM-",
        "outputId": "b2680f5e-d3cc-4c9e-abe1-c03a6259cfc5"
      },
      "source": [
        "import matplotlib.pyplot as plt\n",
        "\n",
        "bar1=data_2014.groupby('h_a').mean()[['scored','missed' ]]\n",
        "bar1.index=['Away','Home_2014']\n",
        "bar1=bar1.loc['Home_2014']\n",
        "bar2=data_2015.groupby('h_a').mean()[['scored','missed' ]]\n",
        "bar2.index=['Away','Home_2015']\n",
        "bar2=bar2.loc['Home_2015']\n",
        "bar3=data_2016.groupby('h_a').mean()[['scored','missed' ]]\n",
        "bar3.index=['Away','Home_2016']\n",
        "bar3=bar3.loc['Home_2016']\n",
        "bar4=data_2017.groupby('h_a').mean()[['scored','missed' ]]\n",
        "bar4.index=['Away','Home_2017']\n",
        "bar4=bar4.loc['Home_2017']\n",
        "bar5=data_2018.groupby('h_a').mean()[['scored','missed' ]]\n",
        "bar5.index=['Away','Home_2018']\n",
        "bar5=bar5.loc['Home_2018']\n",
        "bar6=pre_covid.groupby('h_a').mean()[['scored','missed' ]]\n",
        "bar6.index=['Away','Home_2019']\n",
        "bar6=bar6.loc['Home_2019']\n",
        "bar7=post_covid.groupby('h_a').mean()[['scored','missed' ]]\n",
        "bar7.index=['Away','Home_post_covid']\n",
        "bar7=bar7.loc['Home_post_covid']\n",
        "bar8=data_2020.groupby('h_a').mean()[['scored','missed' ]]\n",
        "bar8.index=['Away','Home_2020']\n",
        "bar8=bar8.loc['Home_2020']\n",
        "bars=pd.concat([bar1,bar2,bar3,bar4,bar5,bar6,bar8],axis=1)\n",
        "bars=bars.T\n",
        "bars.plot(kind='bar', figsize=(10,10))\n",
        "plt.title(\"Home teams missing more chances after Pandemic ?\")\n",
        "plt.ylabel(\"Fraction of games\")\n",
        "plt.xlabel(\"Season\")\n",
        "plt.show()"
      ],
      "execution_count": 26,
      "outputs": [
        {
          "output_type": "display_data",
          "data": {
            "image/png": "[encoded data removed]",
            "text/plain": [
              "<Figure size 720x720 with 1 Axes>"
            ]
          },
          "metadata": {
            "tags": [],
            "needs_background": "light"
          }
        }
      ]
    },
    {
      "cell_type": "markdown",
      "metadata": {
        "id": "oTbJ6fw2CL8U"
      },
      "source": [
        "**Home team are missing more chances in 2020 season**"
      ]
    },
    {
      "cell_type": "markdown",
      "metadata": {
        "id": "8isVlJWutviJ"
      },
      "source": [
        " The following graph tells how the away teams have scored more goals in the current season the previous seasons "
      ]
    },
    {
      "cell_type": "code",
      "metadata": {
        "colab": {
          "base_uri": "https://localhost:8080/",
          "height": 669
        },
        "id": "va0Hxk3FDlbO",
        "outputId": "c3443cc2-709e-44f2-b329-73219333c59c"
      },
      "source": [
        "import matplotlib.pyplot as plt\n",
        "\n",
        "bar1=data_2014.groupby('h_a').mean()[['scored','missed' ]]\n",
        "bar1.index=['Away_2014','Home_2014']\n",
        "bar1=bar1.loc['Away_2014']\n",
        "bar2=data_2015.groupby('h_a').mean()[['scored','missed' ]]\n",
        "bar2.index=['Away_2015','Home_2015']\n",
        "bar2=bar2.loc['Away_2015']\n",
        "bar3=data_2016.groupby('h_a').mean()[['scored','missed' ]]\n",
        "bar3.index=['Away_2016','Home_2016']\n",
        "bar3=bar3.loc['Away_2016']\n",
        "bar4=data_2017.groupby('h_a').mean()[['scored','missed' ]]\n",
        "bar4.index=['Away_2017','Home_2017']\n",
        "bar4=bar4.loc['Away_2017']\n",
        "bar5=data_2018.groupby('h_a').mean()[['scored','missed' ]]\n",
        "bar5.index=['Away_2018','Home_2018']\n",
        "bar5=bar5.loc['Away_2018']\n",
        "bar6=pre_covid.groupby('h_a').mean()[['scored','missed' ]]\n",
        "bar6.index=['Away_2019','Home_2019']\n",
        "bar6=bar6.loc['Away_2019']\n",
        "bar7=post_covid.groupby('h_a').mean()[['scored','missed' ]]\n",
        "bar7.index=['Away_post_covid','Home_post_covid']\n",
        "bar7=bar7.loc['Away_post_covid']\n",
        "bar8=data_2020.groupby('h_a').mean()[['scored','missed' ]]\n",
        "bar8.index=['Away_2020','Home_2020']\n",
        "bar8=bar8.loc['Away_2020']\n",
        "bars=pd.concat([bar1,bar2,bar3,bar4,bar5,bar6,bar8],axis=1)\n",
        "bars=bars.T\n",
        "bars.plot(kind='bar', figsize=(10,10))\n",
        "plt.title(\"Away teams scoring more goals after Pandemic ? \")\n",
        "plt.ylabel(\"Fraction of games\")\n",
        "plt.xlabel(\"Season\")\n",
        "plt.show()"
      ],
      "execution_count": 27,
      "outputs": [
        {
          "output_type": "display_data",
          "data": {
            "image/png": "[encoded data removed]",
            "text/plain": [
              "<Figure size 720x720 with 1 Axes>"
            ]
          },
          "metadata": {
            "tags": [],
            "needs_background": "light"
          }
        }
      ]
    },
    {
      "cell_type": "markdown",
      "metadata": {
        "id": "Qil6Nl3XD1OD"
      },
      "source": [
        "**Away teams are scoring more.. Home advantage drifting off in 2020 season ?**"
      ]
    },
    {
      "cell_type": "code",
      "metadata": {
        "id": "XBw4FxX3rv2m"
      },
      "source": [
        ""
      ],
      "execution_count": 27,
      "outputs": []
    },
    {
      "cell_type": "code",
      "metadata": {
        "id": "wj0CIhZCrxYN"
      },
      "source": [
        ""
      ],
      "execution_count": 27,
      "outputs": []
    },
    {
      "cell_type": "markdown",
      "metadata": {
        "id": "2oudiStNTobJ"
      },
      "source": [
        "# Model Assumptions and Approach"
      ]
    },
    {
      "cell_type": "markdown",
      "metadata": {
        "id": "B443nyCqTu5W"
      },
      "source": [
        "In previous visuals we see some abnormalities in the 2020 season as compared to other seasons, however, we are still not certain if the abnormalities are actualy because of a reason or just some noise in data. To make good conclusion, I will use A/B test with difference in Difference (diff in diff) approach.\r\n",
        "\r\n",
        "A diff in diff approach is nothing but finding the impact due to a change. For example since our 2020 teams are pretty same as seasons before therefore the number of goals scored per game in entire season can be assumed to be similar to previous seasons, but if we observe a major change (statistically significant) we will attribute the change to weird 2020 season itself and not any noise in the data.\r\n",
        "\r\n",
        "The impact can be calulated using regression with interaction effect. Interection effect is combination of home/away and pre/post which is actually diff in diff in A/B testing. So running a regression with interaction effect and obtaining coefficient with statistically significant p-value can tell us if the change was due to 2020 season or some noise.\r\n",
        "\r\n",
        "\r\n",
        "So exploration is done to check if Home teams are doing poor or away teams are doing well\r\n",
        "\r\n",
        "\r\n",
        "1.   xG of home teams (if it goes down then away teams are defending well and making sure home teams are not getting chances to score )\r\n",
        "2.   Missed chances of home teams (If it goes up then it means that Home teams are not finishing well and their performance is dropped down.\r\n",
        "\r\n",
        "\r\n",
        "\r\n"
      ]
    },
    {
      "cell_type": "markdown",
      "metadata": {
        "id": "p7GusOIhVfks"
      },
      "source": [
        "# Win ratio of Home teams A/B **test**"
      ]
    },
    {
      "cell_type": "markdown",
      "metadata": {
        "id": "VC0x1K-mrwmL"
      },
      "source": [
        "***Now lets see the impact of the no fans in win percentages by home team, Our Null hypothesis is that the win percentage change after no fans is 0, and alternate hypothesis is that win percentage change is less than zero (it means home teams are losing more matches than before )***"
      ]
    },
    {
      "cell_type": "code",
      "metadata": {
        "id": "Abo53xw4D9Yi"
      },
      "source": [
        "all=pd.concat([data_2014,data_2015,data_2016,data_2017,data_2018,data_2019,data_2020],axis=0)"
      ],
      "execution_count": 28,
      "outputs": []
    },
    {
      "cell_type": "code",
      "metadata": {
        "id": "W4M3rn43o_ZJ"
      },
      "source": [
        "all['pre/post']=1*(all['date']>='2020-04-01 17:00:00')\n"
      ],
      "execution_count": 29,
      "outputs": []
    },
    {
      "cell_type": "code",
      "metadata": {
        "id": "uImK06WipGXV"
      },
      "source": [
        "y=all['wins']\n",
        "x=all.drop(columns=['date','scored','missed','xpts','wins','draws','loses','pts','team','matches','xG','npxG','deep_allowed'\n",
        ",'xGA','npxGA','deep','npxGD','ppda_coef','oppda_coef'])\n",
        "x['h_a']=1*(x['h_a']=='h')\n",
        "\n"
      ],
      "execution_count": 30,
      "outputs": []
    },
    {
      "cell_type": "code",
      "metadata": {
        "id": "p2rlj2WjXGDf"
      },
      "source": [
        "x['interaction']=x['h_a']*x['pre/post']\n"
      ],
      "execution_count": 31,
      "outputs": []
    },
    {
      "cell_type": "code",
      "metadata": {
        "id": "cCzB-aFpZbQe",
        "colab": {
          "base_uri": "https://localhost:8080/"
        },
        "outputId": "2492925c-a409-4ba2-8285-2962e17aa53e"
      },
      "source": [
        "import statsmodels.api as sm"
      ],
      "execution_count": 32,
      "outputs": [
        {
          "output_type": "stream",
          "text": [
            "/usr/local/lib/python3.6/dist-packages/statsmodels/tools/_testing.py:19: FutureWarning: pandas.util.testing is deprecated. Use the functions in the public API at pandas.testing instead.\n",
            "  import pandas.util.testing as tm\n"
          ],
          "name": "stderr"
        }
      ]
    },
    {
      "cell_type": "code",
      "metadata": {
        "colab": {
          "base_uri": "https://localhost:8080/"
        },
        "id": "LWxBw7ogb8os",
        "outputId": "9af49bcb-9f5a-4ffc-ddea-8c37a37858df"
      },
      "source": [
        "x = sm.add_constant(x)\n",
        "model = sm.OLS(y, x)\n",
        "results = model.fit()\n",
        "print(results.summary())"
      ],
      "execution_count": 33,
      "outputs": [
        {
          "output_type": "stream",
          "text": [
            "                            OLS Regression Results                            \n",
            "==============================================================================\n",
            "Dep. Variable:                   wins   R-squared:                       0.023\n",
            "Model:                            OLS   Adj. R-squared:                  0.022\n",
            "Method:                 Least Squares   F-statistic:                     37.70\n",
            "Date:                Wed, 16 Dec 2020   Prob (F-statistic):           4.47e-24\n",
            "Time:                        07:08:47   Log-Likelihood:                -3287.0\n",
            "No. Observations:                4798   AIC:                             6582.\n",
            "Df Residuals:                    4794   BIC:                             6608.\n",
            "Df Model:                           3                                         \n",
            "Covariance Type:            nonrobust                                         \n",
            "===============================================================================\n",
            "                  coef    std err          t      P>|t|      [0.025      0.975]\n",
            "-------------------------------------------------------------------------------\n",
            "const           0.3030      0.010     29.514      0.000       0.283       0.323\n",
            "h_a             0.1536      0.015     10.576      0.000       0.125       0.182\n",
            "pre/post        0.0714      0.035      2.062      0.039       0.004       0.139\n",
            "interaction    -0.1109      0.049     -2.265      0.024      -0.207      -0.015\n",
            "==============================================================================\n",
            "Omnibus:                    21819.281   Durbin-Watson:                   1.795\n",
            "Prob(Omnibus):                  0.000   Jarque-Bera (JB):              740.915\n",
            "Skew:                           0.471   Prob(JB):                    1.30e-161\n",
            "Kurtosis:                       1.321   Cond. No.                         9.32\n",
            "==============================================================================\n",
            "\n",
            "Warnings:\n",
            "[1] Standard Errors assume that the covariance matrix of the errors is correctly specified.\n"
          ],
          "name": "stdout"
        }
      ]
    },
    {
      "cell_type": "markdown",
      "metadata": {
        "id": "0rO2-RCju18D"
      },
      "source": [
        "Here we clearly see that the interaction effect, (diff in diff) of matches played by home team are affected a lot, roughly 0.11 win probability of home teams is decreased"
      ]
    },
    {
      "cell_type": "markdown",
      "metadata": {
        "id": "vGgyvSFuVtfO"
      },
      "source": [
        "# Expected Goals A/B test"
      ]
    },
    {
      "cell_type": "markdown",
      "metadata": {
        "id": "ZQS6hW-Gf6Pw"
      },
      "source": [
        "**Now lets see how the expected goals have been impacted by the no fans in stadium and if they are statistically significant**"
      ]
    },
    {
      "cell_type": "code",
      "metadata": {
        "colab": {
          "base_uri": "https://localhost:8080/"
        },
        "id": "dZYJGmZGf-Vg",
        "outputId": "c48ed3ac-c6a9-4ea8-e3ed-58d4da1a1d53"
      },
      "source": [
        "y=all['xG']\n",
        "x=all.drop(columns=['date','scored','missed','xpts','wins','draws','loses','pts','team','matches','xG','npxG','deep_allowed'\n",
        ",'xGA','npxGA','deep','npxGD','ppda_coef','oppda_coef'])\n",
        "x['h_a']=1*(x['h_a']=='h')\n",
        "x['interaction']=x['h_a']*x['pre/post']\n",
        "\n",
        "x = sm.add_constant(x)\n",
        "model = sm.OLS(y, x)\n",
        "results = model.fit()\n",
        "print(results.summary())\n"
      ],
      "execution_count": 34,
      "outputs": [
        {
          "output_type": "stream",
          "text": [
            "                            OLS Regression Results                            \n",
            "==============================================================================\n",
            "Dep. Variable:                     xG   R-squared:                       0.036\n",
            "Model:                            OLS   Adj. R-squared:                  0.036\n",
            "Method:                 Least Squares   F-statistic:                     60.08\n",
            "Date:                Wed, 16 Dec 2020   Prob (F-statistic):           4.00e-38\n",
            "Time:                        07:09:02   Log-Likelihood:                -5856.7\n",
            "No. Observations:                4798   AIC:                         1.172e+04\n",
            "Df Residuals:                    4794   BIC:                         1.175e+04\n",
            "Df Model:                           3                                         \n",
            "Covariance Type:            nonrobust                                         \n",
            "===============================================================================\n",
            "                  coef    std err          t      P>|t|      [0.025      0.975]\n",
            "-------------------------------------------------------------------------------\n",
            "const           1.1713      0.018     66.778      0.000       1.137       1.206\n",
            "h_a             0.3307      0.025     13.331      0.000       0.282       0.379\n",
            "pre/post        0.1245      0.059      2.105      0.035       0.009       0.240\n",
            "interaction    -0.2096      0.084     -2.505      0.012      -0.374      -0.046\n",
            "==============================================================================\n",
            "Omnibus:                      698.989   Durbin-Watson:                   1.644\n",
            "Prob(Omnibus):                  0.000   Jarque-Bera (JB):             1133.502\n",
            "Skew:                           0.991   Prob(JB):                    7.30e-247\n",
            "Kurtosis:                       4.319   Cond. No.                         9.32\n",
            "==============================================================================\n",
            "\n",
            "Warnings:\n",
            "[1] Standard Errors assume that the covariance matrix of the errors is correctly specified.\n"
          ],
          "name": "stdout"
        }
      ]
    },
    {
      "cell_type": "markdown",
      "metadata": {
        "id": "EDnmnj2uvmoA"
      },
      "source": [
        "Here we clearly see that the interaction effect, (diff in diff) of xG for home teams is decreased by 0.21 goals per match, the p value is 0.01 so the result holds 99% of the time and we can say the pandemic has effected xG as well"
      ]
    },
    {
      "cell_type": "markdown",
      "metadata": {
        "id": "rRx3jWitV2oM"
      },
      "source": [
        "# Goals missed by home teams A/B test"
      ]
    },
    {
      "cell_type": "markdown",
      "metadata": {
        "id": "gn5tdW8JyE77"
      },
      "source": [
        "**Goals missed by home teams is now studied next, here we see the test that what is the missed chances by home teams in previous season to current season**"
      ]
    },
    {
      "cell_type": "code",
      "metadata": {
        "colab": {
          "base_uri": "https://localhost:8080/"
        },
        "id": "P_7UCH4ULMZE",
        "outputId": "d03a8a0a-0d36-4e7e-cd11-a538831a073e"
      },
      "source": [
        "y=all['missed']\n",
        "x=all.drop(columns=['date','scored','missed','xpts','wins','draws','loses','pts','team','matches','xG','npxG','deep_allowed'\n",
        ",'xGA','npxGA','deep','npxGD','ppda_coef','oppda_coef'])\n",
        "x['h_a']=1*(x['h_a']=='h')\n",
        "x['interaction']=x['h_a']*x['pre/post']\n",
        "\n",
        "x = sm.add_constant(x)\n",
        "model = sm.OLS(y, x)\n",
        "results = model.fit()\n",
        "print(results.summary())\n",
        "\n"
      ],
      "execution_count": 35,
      "outputs": [
        {
          "output_type": "stream",
          "text": [
            "                            OLS Regression Results                            \n",
            "==============================================================================\n",
            "Dep. Variable:                 missed   R-squared:                       0.018\n",
            "Model:                            OLS   Adj. R-squared:                  0.017\n",
            "Method:                 Least Squares   F-statistic:                     28.94\n",
            "Date:                Wed, 16 Dec 2020   Prob (F-statistic):           1.55e-18\n",
            "Time:                        07:09:09   Log-Likelihood:                -7823.7\n",
            "No. Observations:                4798   AIC:                         1.566e+04\n",
            "Df Residuals:                    4794   BIC:                         1.568e+04\n",
            "Df Model:                           3                                         \n",
            "Covariance Type:            nonrobust                                         \n",
            "===============================================================================\n",
            "                  coef    std err          t      P>|t|      [0.025      0.975]\n",
            "-------------------------------------------------------------------------------\n",
            "const           1.5293      0.026     57.862      0.000       1.477       1.581\n",
            "h_a            -0.3441      0.037     -9.208      0.000      -0.417      -0.271\n",
            "pre/post       -0.0506      0.089     -0.568      0.570      -0.225       0.124\n",
            "interaction     0.2020      0.126      1.603      0.109      -0.045       0.449\n",
            "==============================================================================\n",
            "Omnibus:                      699.048   Durbin-Watson:                   1.885\n",
            "Prob(Omnibus):                  0.000   Jarque-Bera (JB):             1118.900\n",
            "Skew:                           1.000   Prob(JB):                    1.08e-243\n",
            "Kurtosis:                       4.264   Cond. No.                         9.32\n",
            "==============================================================================\n",
            "\n",
            "Warnings:\n",
            "[1] Standard Errors assume that the covariance matrix of the errors is correctly specified.\n"
          ],
          "name": "stdout"
        }
      ]
    },
    {
      "cell_type": "markdown",
      "metadata": {
        "id": "qqTB3DDYybll"
      },
      "source": [
        "Here we see that the missed chances are 0.20 more per game by home team, however we don't have good p-value so we can't reject the null hypothesis that the missed chances are same as before."
      ]
    },
    {
      "cell_type": "markdown",
      "metadata": {
        "id": "oWM1S4e9y9dW"
      },
      "source": [
        "# Summary"
      ]
    },
    {
      "cell_type": "markdown",
      "metadata": {
        "id": "HT64l5W_zDA-"
      },
      "source": [
        "So our analysis understanding the impact of no fans in stadium started with analyzing the results of win probability of home teams before and after pandemic, we see that the win probability is decreased by 11 % for home teams. \n",
        "\n",
        "Then we try to understand the reasons behind less wins for home teams and we see that home teams are having less expected goals this season as compared to other seasons,  this can be attributed to no encouragement from fans to the home players. Also no fans in stadium promotes the performance of opponent players therefore home teams are not getting to the positions in the field as they used to be before. The results of xG are statistically significant therefore our null hypothesis is rejected.\n",
        "\n",
        "\n",
        "Also we checked the missed chances by home teams, as the results are not statistically significant we can safely say that the decrease in win probability for home teams is attributed to less xG rather than missed chances. So basically home team performance is not decreased as much as away team performance has improved in the current season. Hence we see drop of win probability for home teams"
      ]
    },
    {
      "cell_type": "code",
      "metadata": {
        "id": "01O4k3UAzB9V"
      },
      "source": [
        ""
      ],
      "execution_count": null,
      "outputs": []
    }
  ]
}